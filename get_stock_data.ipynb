{
 "cells": [
  {
   "cell_type": "markdown",
   "metadata": {},
   "source": [
    "# Stock data from Alpha Vantage API\n",
    "\n",
    "This notebook gets stock data from the Alpha Vantage API and puts it into a `csv` format that can be used as input into the source code of this project."
   ]
  },
  {
   "cell_type": "code",
   "execution_count": 34,
   "metadata": {},
   "outputs": [],
   "source": [
    "import csv\n",
    "from api_func import get_stock_data"
   ]
  },
  {
   "cell_type": "code",
   "execution_count": 38,
   "metadata": {},
   "outputs": [],
   "source": [
    "stock_symbol = \"AAPL\"\n",
    "apl_data = get_stock_data(stock_symbol)"
   ]
  },
  {
   "cell_type": "code",
   "execution_count": 40,
   "metadata": {},
   "outputs": [],
   "source": [
    "time_series = apl_data[\"Time Series (1min)\"]\n",
    "\n",
    "with open(f\"data/{stock_symbol}.csv\", \"w\", newline=\"\") as file:\n",
    "    writer = csv.writer(file)\n",
    "    writer.writerow([\"timestamp\", \"open\", \"high\", \"low\", \"close\", \"volume\"])\n",
    "\n",
    "    for entry in time_series:\n",
    "        writer.writerow([\n",
    "            entry, \n",
    "            time_series[entry][\"1. open\"], \n",
    "            time_series[entry][\"2. high\"], \n",
    "            time_series[entry][\"3. low\"], \n",
    "            time_series[entry][\"4. close\"], \n",
    "            time_series[entry][\"5. volume\"]\n",
    "        ])"
   ]
  },
  {
   "cell_type": "code",
   "execution_count": null,
   "metadata": {},
   "outputs": [],
   "source": []
  }
 ],
 "metadata": {
  "kernelspec": {
   "display_name": "Python 3",
   "language": "python",
   "name": "python3"
  },
  "language_info": {
   "codemirror_mode": {
    "name": "ipython",
    "version": 3
   },
   "file_extension": ".py",
   "mimetype": "text/x-python",
   "name": "python",
   "nbconvert_exporter": "python",
   "pygments_lexer": "ipython3",
   "version": "3.11.5"
  }
 },
 "nbformat": 4,
 "nbformat_minor": 2
}
